{
  "cells": [
    {
      "cell_type": "markdown",
      "source": [
        "# Código de inicialización\n",
        "Este código permite inicializar las bibliotecas para usar SQLite en la máquina virtual de Google Colab. El código además elimina cualquier dato almacenado anteriormente en el archvio `ejemplos.db`. Es recomendable volver a correr el código cada vez que se comience con la resolución de un nuevo ejercicio."
      ],
      "metadata": {
        "id": "QuMn1Lbbdz7p"
      },
      "id": "QuMn1Lbbdz7p"
    },
    {
      "cell_type": "code",
      "source": [
        "!pip install pymysql\n",
        "%load_ext sql\n",
        "!rm -rf ejemplos.db\n",
        "%sql sqlite:///ejemplos.db"
      ],
      "metadata": {
        "id": "DRIupxipNuoC",
        "colab": {
          "base_uri": "https://localhost:8080/"
        },
        "outputId": "67a2d162-56fd-4191-8a94-02806bed44fd"
      },
      "id": "DRIupxipNuoC",
      "execution_count": 1,
      "outputs": [
        {
          "output_type": "stream",
          "name": "stdout",
          "text": [
            "Collecting pymysql\n",
            "  Downloading PyMySQL-1.1.1-py3-none-any.whl.metadata (4.4 kB)\n",
            "Downloading PyMySQL-1.1.1-py3-none-any.whl (44 kB)\n",
            "\u001b[?25l   \u001b[90m━━━━━━━━━━━━━━━━━━━━━━━━━━━━━━━━━━━━━━━━\u001b[0m \u001b[32m0.0/45.0 kB\u001b[0m \u001b[31m?\u001b[0m eta \u001b[36m-:--:--\u001b[0m\r\u001b[2K   \u001b[90m━━━━━━━━━━━━━━━━━━━━━━━━━━━━━━━━━━━━━━━━\u001b[0m \u001b[32m45.0/45.0 kB\u001b[0m \u001b[31m3.1 MB/s\u001b[0m eta \u001b[36m0:00:00\u001b[0m\n",
            "\u001b[?25hInstalling collected packages: pymysql\n",
            "Successfully installed pymysql-1.1.1\n"
          ]
        }
      ]
    },
    {
      "cell_type": "markdown",
      "source": [
        "# EJERCICIOS DE GROUP y HAVING"
      ],
      "metadata": {
        "id": "cVK-sijYVIH5"
      },
      "id": "cVK-sijYVIH5"
    },
    {
      "cell_type": "markdown",
      "metadata": {
        "id": "NsVx4_K4NiXp"
      },
      "source": [
        "## Ejercicio 1: Ventas por Ciudad de distintos insumos informáticos\n",
        "\n",
        "Tienes dos tablas llamadas `Ventas` y `Productos`:\n",
        "\n",
        "- La tabla `Ventas` tiene las siguientes columnas:\n",
        "  - `VentaID` (INT)\n",
        "  - `ProductoID` (INT, FOREIGN KEY que referencia a `Productos(ProductoID)`)\n",
        "  - `CantidadVendida` (INT)\n",
        "  - `PrecioUnitario` (DECIMAL)\n",
        "  - `Ciudad` (VARCHAR)\n",
        "\n",
        "- La tabla `Productos` tiene las siguientes columnas:\n",
        "  - `ProductoID` (INT, PRIMARY KEY)\n",
        "  - `NombreProducto` (VARCHAR)\n",
        "  - `Precio` (DECIMAL)\n",
        "\n",
        "Deseas analizar las ventas por ciudad, combinando la información de ambas tablas para mostrar el nombre de los productos vendidos y el total de ingresos generados por cada ciudad."
      ],
      "id": "NsVx4_K4NiXp"
    },
    {
      "cell_type": "code",
      "execution_count": 2,
      "metadata": {
        "id": "k5xOpu04NiXr",
        "colab": {
          "base_uri": "https://localhost:8080/"
        },
        "outputId": "782c1e3c-8f36-493f-cb5b-46cf0751da66"
      },
      "outputs": [
        {
          "output_type": "stream",
          "name": "stdout",
          "text": [
            " * sqlite:///ejemplos.db\n",
            "Done.\n",
            "Done.\n"
          ]
        },
        {
          "output_type": "execute_result",
          "data": {
            "text/plain": [
              "[]"
            ]
          },
          "metadata": {},
          "execution_count": 2
        }
      ],
      "source": [
        "%%sql\n",
        "-- Escribe aquí el código DDL para crear las tablas Ventas y Productos\n",
        "create table Ventas(\n",
        "  VentaID INT,\n",
        "  ProductoID INT,\n",
        "  CantidadVendida INT,\n",
        "  PrecioUnitario DECIMAL,\n",
        "  Ciudad VARCHAR,\n",
        "  FOREIGN KEY (ProductoID) REFERENCES Productos(ProductoID)\n",
        ");\n",
        "\n",
        "create table Productos(\n",
        "  ProductoID INT PRIMARY KEY,\n",
        "  NombreProducto VARCHAR,\n",
        "  Precio DECIMAL\n",
        ");"
      ],
      "id": "k5xOpu04NiXr"
    },
    {
      "cell_type": "markdown",
      "metadata": {
        "id": "im4yKrVtNiXt"
      },
      "source": [
        "**Rellenado de la tabla Ventas**\n",
        "\n"
      ],
      "id": "im4yKrVtNiXt"
    },
    {
      "cell_type": "code",
      "execution_count": 3,
      "id": "71b6196d",
      "metadata": {
        "id": "71b6196d",
        "colab": {
          "base_uri": "https://localhost:8080/"
        },
        "outputId": "49a853f1-2d0f-4dca-e11d-441583167323"
      },
      "outputs": [
        {
          "output_type": "stream",
          "name": "stdout",
          "text": [
            " * sqlite:///ejemplos.db\n",
            "15 rows affected.\n",
            "15 rows affected.\n"
          ]
        },
        {
          "output_type": "execute_result",
          "data": {
            "text/plain": [
              "[]"
            ]
          },
          "metadata": {},
          "execution_count": 3
        }
      ],
      "source": [
        "# Población de la tabla Ventas\n",
        "# Insertar datos en la tabla Ventas\n",
        "%%sql\n",
        "INSERT INTO Ventas (VentaID, ProductoID, CantidadVendida, PrecioUnitario, Ciudad) VALUES\n",
        "(5, 1, 6, 45.00, 'Buenos Aires'),\n",
        "(6, 12, 9, 35.00, 'Córdoba'),\n",
        "(7, 2, 4, 20.00, 'Rosario'),\n",
        "(8, 13, 12, 60.00, 'Mendoza'),\n",
        "(9, 3, 7, 55.00, 'La Plata'),\n",
        "(10, 3, 5, 32.50, 'San Miguel de Tucumán'),\n",
        "(11, 11, 3, 28.00, 'Salta'),\n",
        "(12, 11, 8, 40.00, 'Mar del Plata'),\n",
        "(13, 11, 11, 70.00, 'Santa Fe'),\n",
        "(14, 11, 4, 25.00, 'San Juan'),\n",
        "(15, 11, 9, 35.00, 'Neuquén'),\n",
        "(16, 11, 6, 45.00, 'Posadas'),\n",
        "(17, 13, 10, 50.00, 'Bahía Blanca'),\n",
        "(18, 11, 12, 65.00, 'San Salvador de Jujuy'),\n",
        "(19, 15, 3, 22.50, 'Comodoro Rivadavia');\n",
        "\n",
        "INSERT INTO Productos (ProductoID, NombreProducto, Precio) VALUES\n",
        "(1, 'Teclado Mecánico', 75.00),\n",
        "(2, 'Mouse Inalámbrico', 45.00),\n",
        "(3, 'Monitor 24 Pulgadas', 150.00),\n",
        "(4, 'Disco Duro SSD 1TB', 120.00),\n",
        "(5, 'Memoria RAM 16GB', 80.00),\n",
        "(6, 'Placa Madre ATX', 200.00),\n",
        "(7, 'Tarjeta Gráfica 6GB', 350.00),\n",
        "(8, 'Auriculares con Micrófono', 60.00),\n",
        "(9, 'Cámara Web HD', 55.00),\n",
        "(10, 'Micrófono de Condensador', 90.00),\n",
        "(11, 'Router WiFi 6', 130.00),\n",
        "(12, 'Impresora Láser', 180.00),\n",
        "(13, 'Soporte Monitor Ajustable', 25.00),\n",
        "(14, 'Teclado Inalámbrico', 50.00),\n",
        "(15, 'Mouse Gaming', 40.00);"
      ]
    },
    {
      "cell_type": "markdown",
      "metadata": {
        "id": "622zROEDNiXt"
      },
      "source": [
        "**Consignas del ejercicio:**\n",
        "\n",
        "1. Encuentre el total de ingresos (`CantidadVendida * PrecioUnitario`) por cada ciudad.\n"
      ],
      "id": "622zROEDNiXt"
    },
    {
      "cell_type": "code",
      "execution_count": 4,
      "metadata": {
        "id": "zuIw9B9UNiXu",
        "colab": {
          "base_uri": "https://localhost:8080/",
          "height": 395
        },
        "outputId": "d2c15643-8b27-44a9-b4a7-673c59008ccf"
      },
      "outputs": [
        {
          "output_type": "stream",
          "name": "stdout",
          "text": [
            " * sqlite:///ejemplos.db\n",
            "Done.\n"
          ]
        },
        {
          "output_type": "execute_result",
          "data": {
            "text/plain": [
              "[('Bahía Blanca', 500),\n",
              " ('Buenos Aires', 270),\n",
              " ('Comodoro Rivadavia', 67.5),\n",
              " ('Córdoba', 315),\n",
              " ('La Plata', 385),\n",
              " ('Mar del Plata', 320),\n",
              " ('Mendoza', 720),\n",
              " ('Neuquén', 315),\n",
              " ('Posadas', 270),\n",
              " ('Rosario', 80),\n",
              " ('Salta', 84),\n",
              " ('San Juan', 100),\n",
              " ('San Miguel de Tucumán', 162.5),\n",
              " ('San Salvador de Jujuy', 780),\n",
              " ('Santa Fe', 770)]"
            ],
            "text/html": [
              "<table>\n",
              "    <thead>\n",
              "        <tr>\n",
              "            <th>Ciudad</th>\n",
              "            <th>TotalIngresos</th>\n",
              "        </tr>\n",
              "    </thead>\n",
              "    <tbody>\n",
              "        <tr>\n",
              "            <td>Bahía Blanca</td>\n",
              "            <td>500</td>\n",
              "        </tr>\n",
              "        <tr>\n",
              "            <td>Buenos Aires</td>\n",
              "            <td>270</td>\n",
              "        </tr>\n",
              "        <tr>\n",
              "            <td>Comodoro Rivadavia</td>\n",
              "            <td>67.5</td>\n",
              "        </tr>\n",
              "        <tr>\n",
              "            <td>Córdoba</td>\n",
              "            <td>315</td>\n",
              "        </tr>\n",
              "        <tr>\n",
              "            <td>La Plata</td>\n",
              "            <td>385</td>\n",
              "        </tr>\n",
              "        <tr>\n",
              "            <td>Mar del Plata</td>\n",
              "            <td>320</td>\n",
              "        </tr>\n",
              "        <tr>\n",
              "            <td>Mendoza</td>\n",
              "            <td>720</td>\n",
              "        </tr>\n",
              "        <tr>\n",
              "            <td>Neuquén</td>\n",
              "            <td>315</td>\n",
              "        </tr>\n",
              "        <tr>\n",
              "            <td>Posadas</td>\n",
              "            <td>270</td>\n",
              "        </tr>\n",
              "        <tr>\n",
              "            <td>Rosario</td>\n",
              "            <td>80</td>\n",
              "        </tr>\n",
              "        <tr>\n",
              "            <td>Salta</td>\n",
              "            <td>84</td>\n",
              "        </tr>\n",
              "        <tr>\n",
              "            <td>San Juan</td>\n",
              "            <td>100</td>\n",
              "        </tr>\n",
              "        <tr>\n",
              "            <td>San Miguel de Tucumán</td>\n",
              "            <td>162.5</td>\n",
              "        </tr>\n",
              "        <tr>\n",
              "            <td>San Salvador de Jujuy</td>\n",
              "            <td>780</td>\n",
              "        </tr>\n",
              "        <tr>\n",
              "            <td>Santa Fe</td>\n",
              "            <td>770</td>\n",
              "        </tr>\n",
              "    </tbody>\n",
              "</table>"
            ]
          },
          "metadata": {},
          "execution_count": 4
        }
      ],
      "source": [
        "%%sql\n",
        "SELECT Ciudad, CantidadVendida * PrecioUnitario AS TotalIngresos\n",
        "FROM Ventas\n",
        "GROUP BY Ciudad;"
      ],
      "id": "zuIw9B9UNiXu"
    },
    {
      "cell_type": "markdown",
      "id": "b96bb132",
      "metadata": {
        "id": "b96bb132"
      },
      "source": [
        "2. Escriba el código SQL para listar las Ciudades cuyo total de ingresos supera los $500."
      ]
    },
    {
      "cell_type": "code",
      "execution_count": 5,
      "metadata": {
        "id": "ACqNMaDGNiXu",
        "colab": {
          "base_uri": "https://localhost:8080/",
          "height": 139
        },
        "outputId": "764073b2-811c-49e3-f4ba-7ac0b19f1004"
      },
      "outputs": [
        {
          "output_type": "stream",
          "name": "stdout",
          "text": [
            " * sqlite:///ejemplos.db\n",
            "Done.\n"
          ]
        },
        {
          "output_type": "execute_result",
          "data": {
            "text/plain": [
              "[('Mendoza',), ('San Salvador de Jujuy',), ('Santa Fe',)]"
            ],
            "text/html": [
              "<table>\n",
              "    <thead>\n",
              "        <tr>\n",
              "            <th>Ciudad</th>\n",
              "        </tr>\n",
              "    </thead>\n",
              "    <tbody>\n",
              "        <tr>\n",
              "            <td>Mendoza</td>\n",
              "        </tr>\n",
              "        <tr>\n",
              "            <td>San Salvador de Jujuy</td>\n",
              "        </tr>\n",
              "        <tr>\n",
              "            <td>Santa Fe</td>\n",
              "        </tr>\n",
              "    </tbody>\n",
              "</table>"
            ]
          },
          "metadata": {},
          "execution_count": 5
        }
      ],
      "source": [
        "%%sql\n",
        "SELECT Ciudad FROM Ventas\n",
        "WHERE CantidadVendida * PrecioUnitario > 500\n",
        "GROUP BY Ciudad;"
      ],
      "id": "ACqNMaDGNiXu"
    },
    {
      "cell_type": "markdown",
      "id": "7a6a43fe",
      "metadata": {
        "id": "7a6a43fe"
      },
      "source": [
        "3. Modifique la consulta del inciso 2 para ordenar las Ciudades de mayor a menor ingreso total."
      ]
    },
    {
      "cell_type": "code",
      "execution_count": 6,
      "metadata": {
        "id": "kzhBe0qENiXv",
        "colab": {
          "base_uri": "https://localhost:8080/",
          "height": 139
        },
        "outputId": "02fe499e-9130-435e-938f-0b9e7edb0976"
      },
      "outputs": [
        {
          "output_type": "stream",
          "name": "stdout",
          "text": [
            " * sqlite:///ejemplos.db\n",
            "Done.\n"
          ]
        },
        {
          "output_type": "execute_result",
          "data": {
            "text/plain": [
              "[('San Salvador de Jujuy', 780), ('Santa Fe', 770), ('Mendoza', 720)]"
            ],
            "text/html": [
              "<table>\n",
              "    <thead>\n",
              "        <tr>\n",
              "            <th>Ciudad</th>\n",
              "            <th>Total_Ingresos</th>\n",
              "        </tr>\n",
              "    </thead>\n",
              "    <tbody>\n",
              "        <tr>\n",
              "            <td>San Salvador de Jujuy</td>\n",
              "            <td>780</td>\n",
              "        </tr>\n",
              "        <tr>\n",
              "            <td>Santa Fe</td>\n",
              "            <td>770</td>\n",
              "        </tr>\n",
              "        <tr>\n",
              "            <td>Mendoza</td>\n",
              "            <td>720</td>\n",
              "        </tr>\n",
              "    </tbody>\n",
              "</table>"
            ]
          },
          "metadata": {},
          "execution_count": 6
        }
      ],
      "source": [
        "%%sql\n",
        "SELECT Ciudad, CantidadVendida * PrecioUnitario AS Total_Ingresos FROM Ventas\n",
        "WHERE Total_Ingresos > 500\n",
        "GROUP BY Ciudad\n",
        "ORDER BY Total_Ingresos DESC;"
      ],
      "id": "kzhBe0qENiXv"
    },
    {
      "cell_type": "markdown",
      "metadata": {
        "id": "fRufPLTENiXv"
      },
      "source": [
        "## Ejercicio 2: Promedio de Calificaciones por Curso\n",
        "\n",
        "Considera las siguientes tres tablas:\n",
        "\n",
        "- La tabla **Estudiantes** contiene información sobre los estudiantes inscritos:\n",
        "  - `EstudianteID` (INT, PRIMARY KEY)\n",
        "  - `Nombre` (VARCHAR)\n",
        "\n",
        "- La tabla **Cursos** contiene información sobre los cursos disponibles:\n",
        "  - `CursoID` (INT, PRIMARY KEY)\n",
        "  - `NombreCurso` (VARCHAR)\n",
        "\n",
        "- La tabla **Calificaciones** registra las notas de los estudiantes en los cursos:\n",
        "  - `CalificacionID` (INT, PRIMARY KEY)\n",
        "  - `EstudianteID` (INT, FOREIGN KEY que referencia a `Estudiantes(EstudianteID)`)\n",
        "  - `CursoID` (INT, FOREIGN KEY que referencia a `Cursos(CursoID)`)\n",
        "  - `Nota` (DECIMAL)\n",
        "\n",
        "En este ejercicio, debes analizar el rendimiento de los estudiantes en cada curso, combinando la información de las tres tablas."
      ],
      "id": "fRufPLTENiXv"
    },
    {
      "cell_type": "code",
      "execution_count": 8,
      "metadata": {
        "id": "xd4jJS-oNiXv",
        "colab": {
          "base_uri": "https://localhost:8080/"
        },
        "outputId": "5fe268a5-882e-408e-9d2d-6fc18b546504"
      },
      "outputs": [
        {
          "output_type": "stream",
          "name": "stdout",
          "text": [
            " * sqlite:///ejemplos.db\n",
            "Done.\n",
            "Done.\n",
            "Done.\n"
          ]
        },
        {
          "output_type": "execute_result",
          "data": {
            "text/plain": [
              "[]"
            ]
          },
          "metadata": {},
          "execution_count": 8
        }
      ],
      "source": [
        "%%sql\n",
        "-- Escribe aquí el código DDL para crear las tablas Estudiantes, Cursos y Calificaciones\n",
        "CREATE TABLE Estudiantes(\n",
        "  EstudianteID INT PRIMARY KEY,\n",
        "  Nombre VARCHAR(100)  -- Especifica una longitud máxima para VARCHAR\n",
        ");\n",
        "\n",
        "CREATE TABLE Cursos(\n",
        "  CursoID INT PRIMARY KEY,\n",
        "  NombreCurso VARCHAR(100)  -- Especifica una longitud máxima para VARCHAR\n",
        ");\n",
        "\n",
        "CREATE TABLE Calificaciones(\n",
        "  CalificacionID INT PRIMARY KEY,\n",
        "  EstudianteID INT,\n",
        "  CursoID INT,\n",
        "  Nota DECIMAL(5, 2),  -- También se puede especificar la precisión para DECIMAL\n",
        "  FOREIGN KEY (EstudianteID) REFERENCES Estudiantes(EstudianteID),\n",
        "  FOREIGN KEY (CursoID) REFERENCES Cursos(CursoID)\n",
        ");\n"
      ],
      "id": "xd4jJS-oNiXv"
    },
    {
      "cell_type": "markdown",
      "metadata": {
        "id": "urovVyAXNiXw"
      },
      "source": [
        "**Población de la tabla Calificaciones**\n",
        "\n"
      ],
      "id": "urovVyAXNiXw"
    },
    {
      "cell_type": "code",
      "execution_count": 9,
      "metadata": {
        "id": "fqMJXxAUNiXw",
        "colab": {
          "base_uri": "https://localhost:8080/"
        },
        "outputId": "4c7b0ce4-09d0-43ee-94c1-3af318484ffe"
      },
      "outputs": [
        {
          "output_type": "stream",
          "name": "stdout",
          "text": [
            " * sqlite:///ejemplos.db\n",
            "15 rows affected.\n",
            "5 rows affected.\n",
            "30 rows affected.\n"
          ]
        },
        {
          "output_type": "execute_result",
          "data": {
            "text/plain": [
              "[]"
            ]
          },
          "metadata": {},
          "execution_count": 9
        }
      ],
      "source": [
        "# Insertar datos en la tabla Calificaciones\n",
        "%%sql\n",
        "-- Insertar datos en la tabla Estudiantes\n",
        "INSERT INTO Estudiantes (EstudianteID, Nombre)\n",
        "VALUES\n",
        "(1, 'Juan Pérez'),\n",
        "(2, 'María Gómez'),\n",
        "(3, 'Carlos Ruiz'),\n",
        "(4, 'Ana Fernández'),\n",
        "(5, 'Sofía López'),\n",
        "(6, 'Lucas Martínez'),\n",
        "(7, 'Natalia Ríos'),\n",
        "(8, 'David Torres'),\n",
        "(9, 'Laura Castro'),\n",
        "(10, 'Pedro Sánchez'),\n",
        "(11, 'Valeria Ramírez'),\n",
        "(12, 'Diego Flores'),\n",
        "(13, 'Camila Méndez'),\n",
        "(14, 'Jorge Ortega'),\n",
        "(15, 'Lucía Vázquez');\n",
        "-- Insertar datos en la tabla Cursos\n",
        "INSERT INTO Cursos (CursoID, NombreCurso)\n",
        "VALUES\n",
        "(1, 'Matemáticas'),\n",
        "(2, 'Historia'),\n",
        "(3, 'Ciencias'),\n",
        "(4, 'Literatura'),\n",
        "(5, 'Informática');\n",
        "\n",
        "-- Insertar datos en la tabla Calificaciones\n",
        "INSERT INTO Calificaciones (CalificacionID, EstudianteID, CursoID, Nota)\n",
        "VALUES\n",
        "(1, 1, 1, 8.5),\n",
        "(2, 1, 2, 7.0),\n",
        "(3, 2, 1, 9.0),\n",
        "(4, 2, 3, 6.5),\n",
        "(5, 3, 4, 8.0),\n",
        "(6, 4, 5, 9.5),\n",
        "(7, 5, 1, 7.5),\n",
        "(8, 5, 2, 8.0),\n",
        "(9, 5, 3, 9.0),\n",
        "(10, 5, 4, 8.5),\n",
        "(11, 6, 1, 6.5),  -- Lucas Martínez en Matemáticas\n",
        "(12, 6, 2, 7.0),  -- Lucas Martínez en Historia\n",
        "(13, 7, 3, 9.5),  -- Natalia Ríos en Ciencias\n",
        "(14, 7, 4, 8.0),  -- Natalia Ríos en Literatura\n",
        "(15, 8, 1, 5.5),  -- David Torres en Matemáticas\n",
        "(16, 8, 5, 7.5),  -- David Torres en Informática\n",
        "(17, 9, 2, 6.0),  -- Laura Castro en Historia\n",
        "(18, 9, 3, 7.5),  -- Laura Castro en Ciencias\n",
        "(19, 10, 4, 9.0), -- Pedro Sánchez en Literatura\n",
        "(20, 10, 5, 8.5), -- Pedro Sánchez en Informática\n",
        "(21, 11, 1, 7.0), -- Valeria Ramírez en Matemáticas\n",
        "(22, 11, 2, 8.0), -- Valeria Ramírez en Historia\n",
        "(23, 12, 3, 6.5), -- Diego Flores en Ciencias\n",
        "(24, 12, 4, 9.5), -- Diego Flores en Literatura\n",
        "(25, 13, 5, 8.0), -- Camila Méndez en Informática\n",
        "(26, 13, 1, 7.5), -- Camila Méndez en Matemáticas\n",
        "(27, 14, 2, 6.5), -- Jorge Ortega en Historia\n",
        "(28, 14, 3, 8.5), -- Jorge Ortega en Ciencias\n",
        "(29, 15, 4, 9.0),\n",
        "(30, 15, 5, 7.0);\n"
      ],
      "id": "fqMJXxAUNiXw"
    },
    {
      "cell_type": "markdown",
      "metadata": {
        "id": "fxLxg4M1NiXw"
      },
      "source": [
        "**Consignas del ejercicio:**\n",
        "\n",
        "1. Encuentre el promedio de `Nota` para cada `Curso`."
      ],
      "id": "fxLxg4M1NiXw"
    },
    {
      "cell_type": "code",
      "execution_count": 10,
      "metadata": {
        "id": "zMGp3kBgNiXw",
        "colab": {
          "base_uri": "https://localhost:8080/",
          "height": 182
        },
        "outputId": "318f4b63-2cc5-41ac-ccf6-508ddb46a2d3"
      },
      "outputs": [
        {
          "output_type": "stream",
          "name": "stdout",
          "text": [
            " * sqlite:///ejemplos.db\n",
            "Done.\n"
          ]
        },
        {
          "output_type": "execute_result",
          "data": {
            "text/plain": [
              "[(1, 7.357142857142857),\n",
              " (2, 7.083333333333333),\n",
              " (3, 7.916666666666667),\n",
              " (4, 8.666666666666666),\n",
              " (5, 8.1)]"
            ],
            "text/html": [
              "<table>\n",
              "    <thead>\n",
              "        <tr>\n",
              "            <th>CursoID</th>\n",
              "            <th>PromedioNota</th>\n",
              "        </tr>\n",
              "    </thead>\n",
              "    <tbody>\n",
              "        <tr>\n",
              "            <td>1</td>\n",
              "            <td>7.357142857142857</td>\n",
              "        </tr>\n",
              "        <tr>\n",
              "            <td>2</td>\n",
              "            <td>7.083333333333333</td>\n",
              "        </tr>\n",
              "        <tr>\n",
              "            <td>3</td>\n",
              "            <td>7.916666666666667</td>\n",
              "        </tr>\n",
              "        <tr>\n",
              "            <td>4</td>\n",
              "            <td>8.666666666666666</td>\n",
              "        </tr>\n",
              "        <tr>\n",
              "            <td>5</td>\n",
              "            <td>8.1</td>\n",
              "        </tr>\n",
              "    </tbody>\n",
              "</table>"
            ]
          },
          "metadata": {},
          "execution_count": 10
        }
      ],
      "source": [
        "%%sql\n",
        "SELECT CursoID, AVG(Nota) AS PromedioNota\n",
        "FROM Calificaciones\n",
        "GROUP BY CursoID;"
      ],
      "id": "zMGp3kBgNiXw"
    },
    {
      "cell_type": "markdown",
      "id": "722c022c",
      "metadata": {
        "id": "722c022c"
      },
      "source": [
        "2. Escriba el código SQL para listar los cursos con un promedio mayor a 85."
      ]
    },
    {
      "cell_type": "code",
      "execution_count": 11,
      "metadata": {
        "id": "w_YVVudPNiXx",
        "colab": {
          "base_uri": "https://localhost:8080/",
          "height": 96
        },
        "outputId": "37de069b-efa4-447c-d1eb-0c95bd553ce6"
      },
      "outputs": [
        {
          "output_type": "stream",
          "name": "stdout",
          "text": [
            " * sqlite:///ejemplos.db\n",
            "Done.\n"
          ]
        },
        {
          "output_type": "execute_result",
          "data": {
            "text/plain": [
              "[(4, 86.66666666666666)]"
            ],
            "text/html": [
              "<table>\n",
              "    <thead>\n",
              "        <tr>\n",
              "            <th>CursoID</th>\n",
              "            <th>PromedioNota</th>\n",
              "        </tr>\n",
              "    </thead>\n",
              "    <tbody>\n",
              "        <tr>\n",
              "            <td>4</td>\n",
              "            <td>86.66666666666666</td>\n",
              "        </tr>\n",
              "    </tbody>\n",
              "</table>"
            ]
          },
          "metadata": {},
          "execution_count": 11
        }
      ],
      "source": [
        "%%sql\n",
        "SELECT CursoID, AVG(Nota)*10 AS PromedioNota\n",
        "FROM Calificaciones\n",
        "GROUP BY CursoID\n",
        "HAVING PromedioNota > 85;"
      ],
      "id": "w_YVVudPNiXx"
    },
    {
      "cell_type": "markdown",
      "id": "04841eea",
      "metadata": {
        "id": "04841eea"
      },
      "source": [
        "\n",
        "3. Agregue una columna que muestre el número de estudiantes que han tomado cada curso cuyo promedio supera 85, ordenados en forma descendente por promedio."
      ]
    },
    {
      "cell_type": "code",
      "execution_count": 12,
      "metadata": {
        "id": "TBh31bsgNiXx",
        "colab": {
          "base_uri": "https://localhost:8080/",
          "height": 96
        },
        "outputId": "fe611497-7976-4651-bfa5-b2fd003c5071"
      },
      "outputs": [
        {
          "output_type": "stream",
          "name": "stdout",
          "text": [
            " * sqlite:///ejemplos.db\n",
            "Done.\n"
          ]
        },
        {
          "output_type": "execute_result",
          "data": {
            "text/plain": [
              "[(4, 86.66666666666666, 6)]"
            ],
            "text/html": [
              "<table>\n",
              "    <thead>\n",
              "        <tr>\n",
              "            <th>CursoID</th>\n",
              "            <th>PromedioNota</th>\n",
              "            <th>NumeroEstudiantes</th>\n",
              "        </tr>\n",
              "    </thead>\n",
              "    <tbody>\n",
              "        <tr>\n",
              "            <td>4</td>\n",
              "            <td>86.66666666666666</td>\n",
              "            <td>6</td>\n",
              "        </tr>\n",
              "    </tbody>\n",
              "</table>"
            ]
          },
          "metadata": {},
          "execution_count": 12
        }
      ],
      "source": [
        "%%sql\n",
        "SELECT CursoID, AVG(Nota)*10 AS PromedioNota, COUNT(DISTINCT EstudianteID) AS NumeroEstudiantes\n",
        "FROM Calificaciones\n",
        "GROUP BY CursoID\n",
        "HAVING PromedioNota > 85\n",
        "ORDER BY PromedioNota DESC;"
      ],
      "id": "TBh31bsgNiXx"
    },
    {
      "cell_type": "markdown",
      "metadata": {
        "id": "ReFeNTPaNiXx"
      },
      "source": [
        "## Ejercicio 3: Conteo de Empleados por Departamento\n",
        "\n",
        "Tienes dos tablas llamadas `Empleados` y `Departamentos`:\n",
        "\n",
        "- La tabla `Empleados` tiene las siguientes columnas:\n",
        "  - `EmpleadoID` (INT)\n",
        "  - `Nombre` (VARCHAR)\n",
        "  - `DepartamentoID` (INT, FOREIGN KEY que referencia a `Departamentos(DepartamentoID)`)\n",
        "  - `Salario` (DECIMAL)\n",
        "\n",
        "- La tabla `Departamentos` tiene las siguientes columnas:\n",
        "  - `DepartamentoID` (INT, PRIMARY KEY)\n",
        "  - `NombreDepartamento` (VARCHAR)\n",
        "\n",
        "Deseas analizar la distribución de empleados en cada departamento, combinando la información de ambas tablas para mostrar el nombre del departamento y el número de empleados por cada uno.\n",
        "\n",
        "**Consignas a responder:**\n",
        "\n"
      ],
      "id": "ReFeNTPaNiXx"
    },
    {
      "cell_type": "code",
      "execution_count": 13,
      "metadata": {
        "id": "TM-JwO9TNiXy",
        "colab": {
          "base_uri": "https://localhost:8080/"
        },
        "outputId": "a2f69e62-b015-45db-b4c5-4e43e7d53cc8"
      },
      "outputs": [
        {
          "output_type": "stream",
          "name": "stdout",
          "text": [
            " * sqlite:///ejemplos.db\n",
            "Done.\n",
            "Done.\n"
          ]
        },
        {
          "output_type": "execute_result",
          "data": {
            "text/plain": [
              "[]"
            ]
          },
          "metadata": {},
          "execution_count": 13
        }
      ],
      "source": [
        "%%sql\n",
        "-- Escribe aquí el código DDL para crear las tablas Empleados y Departamentos\n",
        "CREATE TABLE Empleados(\n",
        "  EmpleadoID INT,\n",
        "  Nombre VARCHAR(100),\n",
        "  DepartamentoID INT,\n",
        "  Salario DECIMAL(10, 2),\n",
        "  FOREIGN KEY (DepartamentoID) REFERENCES Departamentos(DepartamentoID)\n",
        ");\n",
        "\n",
        "CREATE TABLE Departamentos(\n",
        "  DepartamentoID INT PRIMARY KEY,\n",
        "  NombreDepartamento VARCHAR(100)\n",
        ")"
      ],
      "id": "TM-JwO9TNiXy"
    },
    {
      "cell_type": "markdown",
      "metadata": {
        "id": "50OKu9KYNiXy"
      },
      "source": [
        "**Relleno de las tablas `Empleados` y `Departamentos`**\n",
        "\n"
      ],
      "id": "50OKu9KYNiXy"
    },
    {
      "cell_type": "code",
      "execution_count": 14,
      "metadata": {
        "id": "6GvQ-IV1NiXy",
        "colab": {
          "base_uri": "https://localhost:8080/"
        },
        "outputId": "ab54a781-a803-45ca-f3da-d14999ec8578"
      },
      "outputs": [
        {
          "output_type": "stream",
          "name": "stdout",
          "text": [
            " * sqlite:///ejemplos.db\n",
            "11 rows affected.\n",
            "6 rows affected.\n"
          ]
        },
        {
          "output_type": "execute_result",
          "data": {
            "text/plain": [
              "[]"
            ]
          },
          "metadata": {},
          "execution_count": 14
        }
      ],
      "source": [
        "%%sql\n",
        "INSERT INTO Empleados (EmpleadoID, Nombre, DepartamentoID, Salario) VALUES\n",
        "(5, 'Laura', 101, 3100),\n",
        "(6, 'Javier', 104, 3300),\n",
        "(7, 'Sofia', 105, 2900),\n",
        "(8, 'Lucas', 105, 3700),\n",
        "(9, 'Fernanda', 101, 3200),\n",
        "(10, 'Diego', 104, 3400),\n",
        "(11, 'Martina', 103, 4000),\n",
        "(12, 'Gustavo', 105, 2950),\n",
        "(13, 'Liliana', 106, 3800),\n",
        "(14, 'Gabriel', 106, 4100),\n",
        "(15, 'Natalia', 102, 3600);\n",
        "\n",
        "INSERT INTO Departamentos (DepartamentoID, NombreDepartamento) VALUES\n",
        "(101, 'Marketing'),\n",
        "(102, 'Ventas'),\n",
        "(103, 'Recursos Humanos'),\n",
        "(104, 'Desarrollo de Producto'),\n",
        "(105, 'Investigación de Mercado'),\n",
        "(106, 'Atención al Cliente');"
      ],
      "id": "6GvQ-IV1NiXy"
    },
    {
      "cell_type": "markdown",
      "metadata": {
        "id": "Oy_3JkD3NiXy"
      },
      "source": [
        "**Consignas del ejercicio:**\n",
        "\n",
        "1. Encuentre el número total de empleados en cada departamento.\n"
      ],
      "id": "Oy_3JkD3NiXy"
    },
    {
      "cell_type": "code",
      "execution_count": 17,
      "metadata": {
        "id": "Z9-3BGMFNiXy",
        "colab": {
          "base_uri": "https://localhost:8080/",
          "height": 203
        },
        "outputId": "0123391a-ecaa-4e49-b7ef-26bf0bf8b156"
      },
      "outputs": [
        {
          "output_type": "stream",
          "name": "stdout",
          "text": [
            " * sqlite:///ejemplos.db\n",
            "Done.\n"
          ]
        },
        {
          "output_type": "execute_result",
          "data": {
            "text/plain": [
              "[('Atención al Cliente', 2),\n",
              " ('Desarrollo de Producto', 2),\n",
              " ('Investigación de Mercado', 3),\n",
              " ('Marketing', 2),\n",
              " ('Recursos Humanos', 1),\n",
              " ('Ventas', 1)]"
            ],
            "text/html": [
              "<table>\n",
              "    <thead>\n",
              "        <tr>\n",
              "            <th>NombreDepartamento</th>\n",
              "            <th>NumeroDeEmpleados</th>\n",
              "        </tr>\n",
              "    </thead>\n",
              "    <tbody>\n",
              "        <tr>\n",
              "            <td>Atención al Cliente</td>\n",
              "            <td>2</td>\n",
              "        </tr>\n",
              "        <tr>\n",
              "            <td>Desarrollo de Producto</td>\n",
              "            <td>2</td>\n",
              "        </tr>\n",
              "        <tr>\n",
              "            <td>Investigación de Mercado</td>\n",
              "            <td>3</td>\n",
              "        </tr>\n",
              "        <tr>\n",
              "            <td>Marketing</td>\n",
              "            <td>2</td>\n",
              "        </tr>\n",
              "        <tr>\n",
              "            <td>Recursos Humanos</td>\n",
              "            <td>1</td>\n",
              "        </tr>\n",
              "        <tr>\n",
              "            <td>Ventas</td>\n",
              "            <td>1</td>\n",
              "        </tr>\n",
              "    </tbody>\n",
              "</table>"
            ]
          },
          "metadata": {},
          "execution_count": 17
        }
      ],
      "source": [
        "%%sql\n",
        "SELECT Departamentos.NombreDepartamento, COUNT(Empleados.Nombre) AS NumeroDeEmpleados\n",
        "FROM Departamentos\n",
        "INNER JOIN Empleados ON Departamentos.DepartamentoID = Empleados.DepartamentoID\n",
        "GROUP BY Departamentos.NombreDepartamento\n",
        ";"
      ],
      "id": "Z9-3BGMFNiXy"
    },
    {
      "cell_type": "markdown",
      "id": "dd365a64",
      "metadata": {
        "id": "dd365a64"
      },
      "source": [
        "2. Escriba el código SQL para listar los departamentos que tienen más de 2 empleados."
      ]
    },
    {
      "cell_type": "code",
      "execution_count": 15,
      "metadata": {
        "id": "UYodiO03NiXy",
        "colab": {
          "base_uri": "https://localhost:8080/",
          "height": 96
        },
        "outputId": "fcca4e6c-c0bf-4c0d-d4f1-ceeefac0ef7d"
      },
      "outputs": [
        {
          "output_type": "stream",
          "name": "stdout",
          "text": [
            " * sqlite:///ejemplos.db\n",
            "Done.\n"
          ]
        },
        {
          "output_type": "execute_result",
          "data": {
            "text/plain": [
              "[('Investigación de Mercado',)]"
            ],
            "text/html": [
              "<table>\n",
              "    <thead>\n",
              "        <tr>\n",
              "            <th>Dptos_Con_Mas_De_Dos_Empleados</th>\n",
              "        </tr>\n",
              "    </thead>\n",
              "    <tbody>\n",
              "        <tr>\n",
              "            <td>Investigación de Mercado</td>\n",
              "        </tr>\n",
              "    </tbody>\n",
              "</table>"
            ]
          },
          "metadata": {},
          "execution_count": 15
        }
      ],
      "source": [
        "%%sql\n",
        "SELECT NombreDepartamento AS Dptos_Con_Mas_De_Dos_Empleados\n",
        "FROM Departamentos\n",
        "INNER JOIN Empleados ON Departamentos.DepartamentoID = Empleados.DepartamentoID\n",
        "GROUP BY Dptos_Con_Mas_De_Dos_Empleados\n",
        "HAVING COUNT(Empleados.EmpleadoID) > 2;\n"
      ],
      "id": "UYodiO03NiXy"
    },
    {
      "cell_type": "markdown",
      "id": "67a157bb",
      "metadata": {
        "id": "67a157bb"
      },
      "source": [
        "\n",
        "3. Muestre el salario promedio de los empleados por cada departamento ordenados promedio en forma descendente."
      ]
    },
    {
      "cell_type": "code",
      "execution_count": 16,
      "metadata": {
        "id": "xfVqujA5NiXy",
        "colab": {
          "base_uri": "https://localhost:8080/",
          "height": 203
        },
        "outputId": "85a4b7fd-5712-410e-92e2-dc6777e743e4"
      },
      "outputs": [
        {
          "output_type": "stream",
          "name": "stdout",
          "text": [
            " * sqlite:///ejemplos.db\n",
            "Done.\n"
          ]
        },
        {
          "output_type": "execute_result",
          "data": {
            "text/plain": [
              "[('Recursos Humanos', 4000.0),\n",
              " ('Atención al Cliente', 3950.0),\n",
              " ('Ventas', 3600.0),\n",
              " ('Desarrollo de Producto', 3350.0),\n",
              " ('Investigación de Mercado', 3183.3333333333335),\n",
              " ('Marketing', 3150.0)]"
            ],
            "text/html": [
              "<table>\n",
              "    <thead>\n",
              "        <tr>\n",
              "            <th>NombreDepartamento</th>\n",
              "            <th>Salario_Promedio</th>\n",
              "        </tr>\n",
              "    </thead>\n",
              "    <tbody>\n",
              "        <tr>\n",
              "            <td>Recursos Humanos</td>\n",
              "            <td>4000.0</td>\n",
              "        </tr>\n",
              "        <tr>\n",
              "            <td>Atención al Cliente</td>\n",
              "            <td>3950.0</td>\n",
              "        </tr>\n",
              "        <tr>\n",
              "            <td>Ventas</td>\n",
              "            <td>3600.0</td>\n",
              "        </tr>\n",
              "        <tr>\n",
              "            <td>Desarrollo de Producto</td>\n",
              "            <td>3350.0</td>\n",
              "        </tr>\n",
              "        <tr>\n",
              "            <td>Investigación de Mercado</td>\n",
              "            <td>3183.3333333333335</td>\n",
              "        </tr>\n",
              "        <tr>\n",
              "            <td>Marketing</td>\n",
              "            <td>3150.0</td>\n",
              "        </tr>\n",
              "    </tbody>\n",
              "</table>"
            ]
          },
          "metadata": {},
          "execution_count": 16
        }
      ],
      "source": [
        "%%sql\n",
        "SELECT NombreDepartamento, AVG(Salario) AS Salario_Promedio\n",
        "FROM Departamentos\n",
        "INNER JOIN Empleados ON Departamentos.DepartamentoID = Empleados.DepartamentoID\n",
        "GROUP BY NombreDepartamento\n",
        "ORDER BY Salario_Promedio DESC;"
      ],
      "id": "xfVqujA5NiXy"
    }
  ],
  "metadata": {
    "colab": {
      "provenance": []
    },
    "kernelspec": {
      "display_name": "Python 3",
      "name": "python3"
    },
    "language_info": {
      "name": "python"
    }
  },
  "nbformat": 4,
  "nbformat_minor": 5
}